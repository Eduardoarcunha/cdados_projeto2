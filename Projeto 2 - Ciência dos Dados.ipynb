{
 "cells": [
  {
   "cell_type": "markdown",
   "metadata": {},
   "source": [
    "# Projeto 2  - Ciencia dos Dados\n",
    "\n",
    "### Professor: Maria Kelly Venezuela\n",
    "\n",
    "### Turma: 2A\n",
    "\n",
    "### Alunos:\n",
    "\n",
    "Eduardo Araujo Rodrigues da Cunha\n",
    "\n",
    "Paulo Henrique Moreira Falcão\n",
    "\n",
    "Pedro Santos Rocha Von Dannecker"
   ]
  },
  {
   "cell_type": "markdown",
   "metadata": {},
   "source": [
    "___\n",
    "\n",
    "## Intuito do projeto\n",
    "\n",
    "O projeto tem como objetivo, a partir de um base de dados, definir um target quantitativo, isto é, uma informação numérica, no caso, o banco de dado escolhido foi o de estatísticas de streamers da plataforma twitch durante um ano, e com estas informações, montar um modelo, que consiga prever o número de seguidores que um canal da plataforma ganhou, baseado em outras informações, como o número médio de viewers, tempo de stream, pico de viewers em um mesmo instante, entre outras."
   ]
  },
  {
   "cell_type": "markdown",
   "metadata": {},
   "source": [
    "<img src = \"img_twitch.png\"\n",
    "     width = 500\n",
    "     alt=\"Logo Twitch\"\n",
    "     style=\"align:center;\" />"
   ]
  },
  {
   "cell_type": "markdown",
   "metadata": {},
   "source": [
    "___\n",
    "\n",
    "## Preparando os dados\n",
    "#### Importando bibliotecas básicas"
   ]
  },
  {
   "cell_type": "code",
   "execution_count": 23,
   "metadata": {},
   "outputs": [],
   "source": [
    "import math\n",
    "import os\n",
    "\n",
    "import matplotlib.pyplot as plt\n",
    "from numpy import arange\n",
    "import pandas as pd\n",
    "\n",
    "from IPython.display import display  # Para ter melhor print."
   ]
  },
  {
   "cell_type": "markdown",
   "metadata": {},
   "source": [
    "#### Import do Dataframe"
   ]
  },
  {
   "cell_type": "code",
   "execution_count": 24,
   "metadata": {},
   "outputs": [],
   "source": [
    "dados = pd.read_csv('twitchdata-update.csv')"
   ]
  },
  {
   "cell_type": "markdown",
   "metadata": {},
   "source": [
    "___\n",
    "\n",
    "## O Dataframe\n",
    "\n",
    "O Dataframe foi retirado do site [Kaggle](https://www.kaggle.com/aayushmishra1512/twitchdata), e tem dados de 1000 streamers da plataforma, as colunas do Dataframe são as seguintes:\n",
    "* **Channel:** Nome do canal do streamer, por exemplo, *Gaules*;\n",
    "\n",
    "* **Watch time(Minutes):** Tempo total de visualização no ano em minutos;\n",
    "\n",
    "* **Stream time(Minutes):** Tempo total em que a live ficou aberta no ano em minutos;\n",
    "\n",
    "* **Peak viewers:** O pico de usuarios assistindo a live ao mesmo tempo nesse ano;\n",
    "\n",
    "* **Average viewers:** Média de usuarios assistindo a live simultaneamente;\n",
    "\n",
    "* **Followers:** Número atual de seguidores;\n",
    "\n",
    "* **Followers gained:** Número de seguidores ganhos no último ano;\n",
    "\n",
    "* **Views gained:** Número de views ganhas no último ano;\n",
    "\n",
    "* **Partnered:** Se tem ou não uma parceria com a Twitch **(True ou False)**;\n",
    "\n",
    "* **Mature:** Se o conteúdo da live é recomendado ou não para maiores de 18 **(True ou False)**;\n",
    "\n",
    "* **Language:** Idioma da live;"
   ]
  },
  {
   "cell_type": "code",
   "execution_count": 28,
   "metadata": {},
   "outputs": [
    {
     "data": {
      "text/html": [
       "<div>\n",
       "<style scoped>\n",
       "    .dataframe tbody tr th:only-of-type {\n",
       "        vertical-align: middle;\n",
       "    }\n",
       "\n",
       "    .dataframe tbody tr th {\n",
       "        vertical-align: top;\n",
       "    }\n",
       "\n",
       "    .dataframe thead th {\n",
       "        text-align: right;\n",
       "    }\n",
       "</style>\n",
       "<table border=\"1\" class=\"dataframe\">\n",
       "  <thead>\n",
       "    <tr style=\"text-align: right;\">\n",
       "      <th></th>\n",
       "      <th>Channel</th>\n",
       "      <th>Watch time(Minutes)</th>\n",
       "      <th>Stream time(minutes)</th>\n",
       "      <th>Peak viewers</th>\n",
       "      <th>Average viewers</th>\n",
       "      <th>Followers</th>\n",
       "      <th>Followers gained</th>\n",
       "      <th>Views gained</th>\n",
       "      <th>Partnered</th>\n",
       "      <th>Mature</th>\n",
       "      <th>Language</th>\n",
       "    </tr>\n",
       "  </thead>\n",
       "  <tbody>\n",
       "    <tr>\n",
       "      <th>0</th>\n",
       "      <td>xQcOW</td>\n",
       "      <td>6196161750</td>\n",
       "      <td>215250</td>\n",
       "      <td>222720</td>\n",
       "      <td>27716</td>\n",
       "      <td>3246298</td>\n",
       "      <td>1734810</td>\n",
       "      <td>93036735</td>\n",
       "      <td>True</td>\n",
       "      <td>False</td>\n",
       "      <td>English</td>\n",
       "    </tr>\n",
       "    <tr>\n",
       "      <th>1</th>\n",
       "      <td>summit1g</td>\n",
       "      <td>6091677300</td>\n",
       "      <td>211845</td>\n",
       "      <td>310998</td>\n",
       "      <td>25610</td>\n",
       "      <td>5310163</td>\n",
       "      <td>1370184</td>\n",
       "      <td>89705964</td>\n",
       "      <td>True</td>\n",
       "      <td>False</td>\n",
       "      <td>English</td>\n",
       "    </tr>\n",
       "    <tr>\n",
       "      <th>2</th>\n",
       "      <td>Gaules</td>\n",
       "      <td>5644590915</td>\n",
       "      <td>515280</td>\n",
       "      <td>387315</td>\n",
       "      <td>10976</td>\n",
       "      <td>1767635</td>\n",
       "      <td>1023779</td>\n",
       "      <td>102611607</td>\n",
       "      <td>True</td>\n",
       "      <td>True</td>\n",
       "      <td>Portuguese</td>\n",
       "    </tr>\n",
       "    <tr>\n",
       "      <th>3</th>\n",
       "      <td>ESL_CSGO</td>\n",
       "      <td>3970318140</td>\n",
       "      <td>517740</td>\n",
       "      <td>300575</td>\n",
       "      <td>7714</td>\n",
       "      <td>3944850</td>\n",
       "      <td>703986</td>\n",
       "      <td>106546942</td>\n",
       "      <td>True</td>\n",
       "      <td>False</td>\n",
       "      <td>English</td>\n",
       "    </tr>\n",
       "    <tr>\n",
       "      <th>4</th>\n",
       "      <td>Tfue</td>\n",
       "      <td>3671000070</td>\n",
       "      <td>123660</td>\n",
       "      <td>285644</td>\n",
       "      <td>29602</td>\n",
       "      <td>8938903</td>\n",
       "      <td>2068424</td>\n",
       "      <td>78998587</td>\n",
       "      <td>True</td>\n",
       "      <td>False</td>\n",
       "      <td>English</td>\n",
       "    </tr>\n",
       "  </tbody>\n",
       "</table>\n",
       "</div>"
      ],
      "text/plain": [
       "    Channel  Watch time(Minutes)  Stream time(minutes)  Peak viewers  \\\n",
       "0     xQcOW           6196161750                215250        222720   \n",
       "1  summit1g           6091677300                211845        310998   \n",
       "2    Gaules           5644590915                515280        387315   \n",
       "3  ESL_CSGO           3970318140                517740        300575   \n",
       "4      Tfue           3671000070                123660        285644   \n",
       "\n",
       "   Average viewers  Followers  Followers gained  Views gained  Partnered  \\\n",
       "0            27716    3246298           1734810      93036735       True   \n",
       "1            25610    5310163           1370184      89705964       True   \n",
       "2            10976    1767635           1023779     102611607       True   \n",
       "3             7714    3944850            703986     106546942       True   \n",
       "4            29602    8938903           2068424      78998587       True   \n",
       "\n",
       "   Mature    Language  \n",
       "0   False     English  \n",
       "1   False     English  \n",
       "2    True  Portuguese  \n",
       "3   False     English  \n",
       "4   False     English  "
      ]
     },
     "execution_count": 28,
     "metadata": {},
     "output_type": "execute_result"
    }
   ],
   "source": [
    "dados.head(5)"
   ]
  },
  {
   "cell_type": "code",
   "execution_count": 25,
   "metadata": {},
   "outputs": [
    {
     "data": {
      "text/plain": [
       "Channel                 object\n",
       "Watch time(Minutes)      int64\n",
       "Stream time(minutes)     int64\n",
       "Peak viewers             int64\n",
       "Average viewers          int64\n",
       "Followers                int64\n",
       "Followers gained         int64\n",
       "Views gained             int64\n",
       "Partnered                 bool\n",
       "Mature                    bool\n",
       "Language                object\n",
       "dtype: object"
      ]
     },
     "execution_count": 25,
     "metadata": {},
     "output_type": "execute_result"
    }
   ],
   "source": [
    "#Verificando se todos os tipos estão corretos:\n",
    "dados.dtypes"
   ]
  },
  {
   "cell_type": "code",
   "execution_count": 26,
   "metadata": {},
   "outputs": [
    {
     "data": {
      "text/plain": [
       "Channel                   object\n",
       "Watch time(Minutes)        int64\n",
       "Stream time(minutes)       int64\n",
       "Peak viewers               int64\n",
       "Average viewers            int64\n",
       "Followers                  int64\n",
       "Followers gained           int64\n",
       "Views gained               int64\n",
       "Partnered                   bool\n",
       "Mature                      bool\n",
       "Language                category\n",
       "dtype: object"
      ]
     },
     "execution_count": 26,
     "metadata": {},
     "output_type": "execute_result"
    }
   ],
   "source": [
    "#Consertando os tipos:\n",
    "dados['Language'] = dados['Language'].astype('category')\n",
    "dados.dtypes"
   ]
  },
  {
   "cell_type": "markdown",
   "metadata": {},
   "source": [
    "Assim, todas as variáveis já estão corretas."
   ]
  },
  {
   "cell_type": "code",
   "execution_count": null,
   "metadata": {},
   "outputs": [],
   "source": []
  }
 ],
 "metadata": {
  "kernelspec": {
   "display_name": "Python 3",
   "language": "python",
   "name": "python3"
  },
  "language_info": {
   "codemirror_mode": {
    "name": "ipython",
    "version": 3
   },
   "file_extension": ".py",
   "mimetype": "text/x-python",
   "name": "python",
   "nbconvert_exporter": "python",
   "pygments_lexer": "ipython3",
   "version": "3.8.3"
  }
 },
 "nbformat": 4,
 "nbformat_minor": 4
}
